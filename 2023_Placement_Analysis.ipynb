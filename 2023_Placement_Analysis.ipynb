{
 "cells": [
  {
   "cell_type": "code",
   "execution_count": 1,
   "id": "18002d66",
   "metadata": {},
   "outputs": [],
   "source": [
    "# Install the Required Libraries\n",
    "import pandas as pd\n",
    "import numpy as py\n",
    "import matplotlib.pyplot as plt\n",
    "import seaborn as sns"
   ]
  },
  {
   "cell_type": "code",
   "execution_count": 2,
   "id": "443bdb93",
   "metadata": {},
   "outputs": [
    {
     "data": {
      "text/html": [
       "<div>\n",
       "<style scoped>\n",
       "    .dataframe tbody tr th:only-of-type {\n",
       "        vertical-align: middle;\n",
       "    }\n",
       "\n",
       "    .dataframe tbody tr th {\n",
       "        vertical-align: top;\n",
       "    }\n",
       "\n",
       "    .dataframe thead th {\n",
       "        text-align: right;\n",
       "    }\n",
       "</style>\n",
       "<table border=\"1\" class=\"dataframe\">\n",
       "  <thead>\n",
       "    <tr style=\"text-align: right;\">\n",
       "      <th></th>\n",
       "      <th>Sl.No.</th>\n",
       "      <th>ROLL.NO</th>\n",
       "      <th>NAME OF THE STUDENTS</th>\n",
       "      <th>BRANCH</th>\n",
       "      <th>COMPANY</th>\n",
       "      <th>CTC</th>\n",
       "    </tr>\n",
       "  </thead>\n",
       "  <tbody>\n",
       "    <tr>\n",
       "      <th>0</th>\n",
       "      <td>1</td>\n",
       "      <td>19K91A0151</td>\n",
       "      <td>Mudavath Tharun</td>\n",
       "      <td>CIVIL</td>\n",
       "      <td>COGNIZANT</td>\n",
       "      <td>4 LPA</td>\n",
       "    </tr>\n",
       "    <tr>\n",
       "      <th>1</th>\n",
       "      <td>2</td>\n",
       "      <td>19K91A0172</td>\n",
       "      <td>Rachamadugu Akhila</td>\n",
       "      <td>CIVIL</td>\n",
       "      <td>COGNIZANT</td>\n",
       "      <td>4 LPA</td>\n",
       "    </tr>\n",
       "    <tr>\n",
       "      <th>2</th>\n",
       "      <td>3</td>\n",
       "      <td>20K95A0117</td>\n",
       "      <td>G Manoj Sai</td>\n",
       "      <td>CIVIL</td>\n",
       "      <td>COGNIZANT</td>\n",
       "      <td>4 LPA</td>\n",
       "    </tr>\n",
       "    <tr>\n",
       "      <th>3</th>\n",
       "      <td>4</td>\n",
       "      <td>20K95A0116</td>\n",
       "      <td>G karthik Reddy</td>\n",
       "      <td>CIVIL</td>\n",
       "      <td>COGNIZANT</td>\n",
       "      <td>4 LPA</td>\n",
       "    </tr>\n",
       "    <tr>\n",
       "      <th>4</th>\n",
       "      <td>5</td>\n",
       "      <td>19K91A0132</td>\n",
       "      <td>Keesagani Aakanksha Goud</td>\n",
       "      <td>CIVIL</td>\n",
       "      <td>COGNIZANT</td>\n",
       "      <td>4 LPA</td>\n",
       "    </tr>\n",
       "    <tr>\n",
       "      <th>...</th>\n",
       "      <td>...</td>\n",
       "      <td>...</td>\n",
       "      <td>...</td>\n",
       "      <td>...</td>\n",
       "      <td>...</td>\n",
       "      <td>...</td>\n",
       "    </tr>\n",
       "    <tr>\n",
       "      <th>256</th>\n",
       "      <td>257</td>\n",
       "      <td>19K91A0383</td>\n",
       "      <td>VIVEK JADHAV</td>\n",
       "      <td>MECH</td>\n",
       "      <td>SAVANTIS TECHNOLOGY (HCL)</td>\n",
       "      <td>2.8LPA</td>\n",
       "    </tr>\n",
       "    <tr>\n",
       "      <th>257</th>\n",
       "      <td>258</td>\n",
       "      <td>20K95A0304</td>\n",
       "      <td>Marupaka Deepika</td>\n",
       "      <td>MECH</td>\n",
       "      <td>SAVANTIS TECHNOLOGY (HCL)</td>\n",
       "      <td>2.8LPA</td>\n",
       "    </tr>\n",
       "    <tr>\n",
       "      <th>258</th>\n",
       "      <td>259</td>\n",
       "      <td>20K95A0315</td>\n",
       "      <td>Venkat Bhargav Kommineni</td>\n",
       "      <td>MECH</td>\n",
       "      <td>SAVANTIS TECHNOLOGY (HCL)</td>\n",
       "      <td>2.8LPA</td>\n",
       "    </tr>\n",
       "    <tr>\n",
       "      <th>259</th>\n",
       "      <td>260</td>\n",
       "      <td>20K95A0331</td>\n",
       "      <td>Shaik khadar babu</td>\n",
       "      <td>MECH</td>\n",
       "      <td>SAVANTIS TECHNOLOGY (HCL)</td>\n",
       "      <td>2.8LPA</td>\n",
       "    </tr>\n",
       "    <tr>\n",
       "      <th>260</th>\n",
       "      <td>261</td>\n",
       "      <td>21K91E0056</td>\n",
       "      <td>Suresh Kanda Raja Shakthi Kumar</td>\n",
       "      <td>B.Com(MBA)</td>\n",
       "      <td>MEDIA MINT</td>\n",
       "      <td>2.8LPA</td>\n",
       "    </tr>\n",
       "  </tbody>\n",
       "</table>\n",
       "<p>261 rows × 6 columns</p>\n",
       "</div>"
      ],
      "text/plain": [
       "     Sl.No.     ROLL.NO             NAME OF THE STUDENTS      BRANCH  \\\n",
       "0         1  19K91A0151                  Mudavath Tharun       CIVIL   \n",
       "1         2  19K91A0172               Rachamadugu Akhila       CIVIL   \n",
       "2         3  20K95A0117                      G Manoj Sai       CIVIL   \n",
       "3         4  20K95A0116                  G karthik Reddy       CIVIL   \n",
       "4         5  19K91A0132         Keesagani Aakanksha Goud       CIVIL   \n",
       "..      ...         ...                              ...         ...   \n",
       "256     257  19K91A0383                     VIVEK JADHAV        MECH   \n",
       "257     258  20K95A0304                 Marupaka Deepika        MECH   \n",
       "258     259  20K95A0315         Venkat Bhargav Kommineni        MECH   \n",
       "259     260  20K95A0331                Shaik khadar babu        MECH   \n",
       "260     261  21K91E0056  Suresh Kanda Raja Shakthi Kumar  B.Com(MBA)   \n",
       "\n",
       "                       COMPANY     CTC  \n",
       "0                    COGNIZANT   4 LPA  \n",
       "1                    COGNIZANT   4 LPA  \n",
       "2                    COGNIZANT   4 LPA  \n",
       "3                    COGNIZANT   4 LPA  \n",
       "4                    COGNIZANT   4 LPA  \n",
       "..                         ...     ...  \n",
       "256  SAVANTIS TECHNOLOGY (HCL)  2.8LPA  \n",
       "257  SAVANTIS TECHNOLOGY (HCL)  2.8LPA  \n",
       "258  SAVANTIS TECHNOLOGY (HCL)  2.8LPA  \n",
       "259  SAVANTIS TECHNOLOGY (HCL)  2.8LPA  \n",
       "260                 MEDIA MINT  2.8LPA  \n",
       "\n",
       "[261 rows x 6 columns]"
      ]
     },
     "execution_count": 2,
     "metadata": {},
     "output_type": "execute_result"
    }
   ],
   "source": [
    "# Load the data using pandas read function\n",
    "data=pd.read_excel(r'book.xlsx')\n",
    "data"
   ]
  },
  {
   "cell_type": "code",
   "execution_count": 3,
   "id": "8ed33a3b",
   "metadata": {},
   "outputs": [
    {
     "name": "stdout",
     "output_type": "stream",
     "text": [
      "The data set contains 6 columns and 261 rows\n"
     ]
    }
   ],
   "source": [
    "# Check the shape of the data\n",
    "print(f'The data set contains {data.shape[1]} columns and {data.shape[0]} rows')"
   ]
  },
  {
   "cell_type": "code",
   "execution_count": 4,
   "id": "55bc56af",
   "metadata": {},
   "outputs": [
    {
     "name": "stdout",
     "output_type": "stream",
     "text": [
      "<class 'pandas.core.frame.DataFrame'>\n",
      "RangeIndex: 261 entries, 0 to 260\n",
      "Data columns (total 6 columns):\n",
      " #   Column                Non-Null Count  Dtype \n",
      "---  ------                --------------  ----- \n",
      " 0   Sl.No.                261 non-null    int64 \n",
      " 1   ROLL.NO               261 non-null    object\n",
      " 2   NAME OF THE STUDENTS  261 non-null    object\n",
      " 3   BRANCH                261 non-null    object\n",
      " 4   COMPANY               261 non-null    object\n",
      " 5   CTC                   261 non-null    object\n",
      "dtypes: int64(1), object(5)\n",
      "memory usage: 12.4+ KB\n"
     ]
    }
   ],
   "source": [
    "# Checking the data set information\n",
    "data.info()"
   ]
  },
  {
   "cell_type": "code",
   "execution_count": 5,
   "id": "80a46ebe",
   "metadata": {
    "scrolled": true
   },
   "outputs": [
    {
     "data": {
      "text/plain": [
       "Sl.No.                  0.0\n",
       "ROLL.NO                 0.0\n",
       "NAME OF THE STUDENTS    0.0\n",
       "BRANCH                  0.0\n",
       "COMPANY                 0.0\n",
       "CTC                     0.0\n",
       "dtype: float64"
      ]
     },
     "execution_count": 5,
     "metadata": {},
     "output_type": "execute_result"
    }
   ],
   "source": [
    "# Checcking the null values in the data\n",
    "data.isna().sum()/len(data)*100"
   ]
  },
  {
   "cell_type": "code",
   "execution_count": 6,
   "id": "bce4f5e5",
   "metadata": {},
   "outputs": [
    {
     "name": "stdout",
     "output_type": "stream",
     "text": [
      "['CIVIL' 'CSE' 'ECE' 'ECE- DILPOMA' 'EEE' 'IT' 'MECH' 'B.Com(MBA)']\n"
     ]
    }
   ],
   "source": [
    "# Checking the no_of branchs in the data\n",
    "print(data['BRANCH'].unique())"
   ]
  },
  {
   "cell_type": "code",
   "execution_count": 7,
   "id": "c5f14adc",
   "metadata": {},
   "outputs": [
    {
     "data": {
      "text/html": [
       "<div>\n",
       "<style scoped>\n",
       "    .dataframe tbody tr th:only-of-type {\n",
       "        vertical-align: middle;\n",
       "    }\n",
       "\n",
       "    .dataframe tbody tr th {\n",
       "        vertical-align: top;\n",
       "    }\n",
       "\n",
       "    .dataframe thead th {\n",
       "        text-align: right;\n",
       "    }\n",
       "</style>\n",
       "<table border=\"1\" class=\"dataframe\">\n",
       "  <thead>\n",
       "    <tr style=\"text-align: right;\">\n",
       "      <th></th>\n",
       "      <th>Sl.No.</th>\n",
       "    </tr>\n",
       "  </thead>\n",
       "  <tbody>\n",
       "    <tr>\n",
       "      <th>count</th>\n",
       "      <td>261.00000</td>\n",
       "    </tr>\n",
       "    <tr>\n",
       "      <th>mean</th>\n",
       "      <td>131.00000</td>\n",
       "    </tr>\n",
       "    <tr>\n",
       "      <th>std</th>\n",
       "      <td>75.48841</td>\n",
       "    </tr>\n",
       "    <tr>\n",
       "      <th>min</th>\n",
       "      <td>1.00000</td>\n",
       "    </tr>\n",
       "    <tr>\n",
       "      <th>25%</th>\n",
       "      <td>66.00000</td>\n",
       "    </tr>\n",
       "    <tr>\n",
       "      <th>50%</th>\n",
       "      <td>131.00000</td>\n",
       "    </tr>\n",
       "    <tr>\n",
       "      <th>75%</th>\n",
       "      <td>196.00000</td>\n",
       "    </tr>\n",
       "    <tr>\n",
       "      <th>max</th>\n",
       "      <td>261.00000</td>\n",
       "    </tr>\n",
       "  </tbody>\n",
       "</table>\n",
       "</div>"
      ],
      "text/plain": [
       "          Sl.No.\n",
       "count  261.00000\n",
       "mean   131.00000\n",
       "std     75.48841\n",
       "min      1.00000\n",
       "25%     66.00000\n",
       "50%    131.00000\n",
       "75%    196.00000\n",
       "max    261.00000"
      ]
     },
     "execution_count": 7,
     "metadata": {},
     "output_type": "execute_result"
    }
   ],
   "source": [
    "# Describing the data\n",
    "data.describe()"
   ]
  },
  {
   "cell_type": "code",
   "execution_count": 8,
   "id": "fca7ef51",
   "metadata": {},
   "outputs": [
    {
     "name": "stdout",
     "output_type": "stream",
     "text": [
      "9 LPA\n"
     ]
    }
   ],
   "source": [
    "# Highest CTC in the data\n",
    "ctc=data['CTC']\n",
    "print(max(ctc))"
   ]
  },
  {
   "cell_type": "code",
   "execution_count": 9,
   "id": "533d76fc",
   "metadata": {},
   "outputs": [
    {
     "name": "stdout",
     "output_type": "stream",
     "text": [
      "1.8LP\n"
     ]
    }
   ],
   "source": [
    "# Lowest CTC in the data\n",
    "print(min(ctc))"
   ]
  },
  {
   "cell_type": "code",
   "execution_count": 10,
   "id": "091b58bd",
   "metadata": {},
   "outputs": [
    {
     "data": {
      "image/png": "[encoded data removed]",
      "text/plain": [
       "<Figure size 640x480 with 1 Axes>"
      ]
     },
     "metadata": {},
     "output_type": "display_data"
    }
   ],
   "source": [
    "# Bar graph\n",
    "Branch = ['ECE','CSE', 'IT', 'CIVIL','EEE','MECH','ECE-D','B.COM(MBA)']  \n",
    "No_of_people_selected = [84,93,23,14,32,13,1,1]  \n",
    "plt.bar(Branch,No_of_people_selected)\n",
    "plt.xlabel('Branch')\n",
    "plt.ylabel('No_of_people_selected')\n",
    "plt.title('No.of peoples selected in each branch')\n",
    "plt.show()\n"
   ]
  },
  {
   "cell_type": "code",
   "execution_count": null,
   "id": "7ffdfb06",
   "metadata": {},
   "outputs": [],
   "source": []
  }
 ],
 "metadata": {
  "kernelspec": {
   "display_name": "Python 3 (ipykernel)",
   "language": "python",
   "name": "python3"
  },
  "language_info": {
   "codemirror_mode": {
    "name": "ipython",
    "version": 3
   },
   "file_extension": ".py",
   "mimetype": "text/x-python",
   "name": "python",
   "nbconvert_exporter": "python",
   "pygments_lexer": "ipython3",
   "version": "3.10.9"
  }
 },
 "nbformat": 4,
 "nbformat_minor": 5
}
